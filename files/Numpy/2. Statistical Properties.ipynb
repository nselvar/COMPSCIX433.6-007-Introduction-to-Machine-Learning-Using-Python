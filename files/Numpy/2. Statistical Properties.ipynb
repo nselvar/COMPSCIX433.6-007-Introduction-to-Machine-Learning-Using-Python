{
 "cells": [
  {
   "cell_type": "markdown",
   "metadata": {},
   "source": [
    "In this notebook we will discuss statistical properties."
   ]
  },
  {
   "cell_type": "code",
   "execution_count": 1,
   "metadata": {
    "collapsed": true
   },
   "outputs": [],
   "source": [
    "import numpy as np"
   ]
  },
  {
   "cell_type": "code",
   "execution_count": 10,
   "metadata": {},
   "outputs": [
    {
     "name": "stdout",
     "output_type": "stream",
     "text": [
      "[[ 5  7  9]\n",
      " [ 3 -6 11]\n",
      " [ 2 -8 13]]\n",
      "-8\n",
      "[ 2 -8  9]\n",
      "[ 5 -6 -8]\n"
     ]
    }
   ],
   "source": [
    "# min() will return the minimum value \n",
    "\n",
    "a = np.array([[5, 7, 9], [3, -6, 11], [2, -8, 13]])\n",
    "print(a)\n",
    "print(np.min(a))\n",
    "print(np.min(a, 0)) # along the columns\n",
    "print(np.min(a, 1)) # along the rows"
   ]
  },
  {
   "cell_type": "code",
   "execution_count": 4,
   "metadata": {},
   "outputs": [
    {
     "name": "stdout",
     "output_type": "stream",
     "text": [
      "[[ 5  7  9]\n",
      " [ 3  6 11]\n",
      " [ 2  8 13]]\n",
      "13\n",
      "[ 5  8 13]\n",
      "[ 9 11 13]\n"
     ]
    }
   ],
   "source": [
    "# max() will return the maximum value\n",
    "\n",
    "a = np.array([[5, 7, 9], [3, 6, 11], [2, 8, 13]])\n",
    "print(a)\n",
    "print(np.max(a))\n",
    "print(np.max(a, 0)) # along the columns\n",
    "print(np.max(a, 1)) # along the rows"
   ]
  },
  {
   "cell_type": "code",
   "execution_count": null,
   "metadata": {
    "collapsed": true
   },
   "outputs": [],
   "source": [
    "# mean() turns the mean or the average\n",
    "\n",
    "a = np.array([[20, 10, 50], [30, 50, 70], [60, 40, 10]])\n",
    "print(a)\n",
    "print(np.mean(a))\n",
    "print(np.mean(a, axis=0)) # along the columns\n",
    "print(np.mean(a, axis=1)) # along the rows"
   ]
  },
  {
   "cell_type": "code",
   "execution_count": null,
   "metadata": {
    "collapsed": true
   },
   "outputs": [],
   "source": [
    "# median() returns the median \n",
    "\n",
    "a = np.array([[20, 10, 50], [30, 50, 70], [60, 40, 10]])\n",
    "print(a)\n",
    "print(np.median(a))\n",
    "print(np.median(a, axis=0)) # along the columns\n",
    "print(np.median(a, axis=1)) # along the rows"
   ]
  },
  {
   "cell_type": "code",
   "execution_count": null,
   "metadata": {
    "collapsed": true
   },
   "outputs": [],
   "source": [
    "# standard deviation is the square root of average of squared deviations \n",
    "# from the mean\n",
    "\n",
    "a = np.array([1, 2, 3, 4, 5])\n",
    "print(np.mean(a))\n",
    "print(np.std(a))\n",
    "# this value is nothing but the square root of 2."
   ]
  },
  {
   "cell_type": "code",
   "execution_count": null,
   "metadata": {
    "collapsed": true
   },
   "outputs": [],
   "source": [
    "\"\"\"\n",
    "In-class activity - create an ndarray with values [2, -4, 6], [7, 4, 8] and [5, 10, 4]. \n",
    "Determine the following:\n",
    "1) The maximum value\n",
    "2) The minimum value\n",
    "3) The mean and median values \n",
    "4) The standard deviation. \n",
    "\"\"\""
   ]
  },
  {
   "cell_type": "code",
   "execution_count": null,
   "metadata": {
    "collapsed": true
   },
   "outputs": [],
   "source": []
  }
 ],
 "metadata": {
  "kernelspec": {
   "display_name": "Python 3",
   "language": "python",
   "name": "python3"
  },
  "language_info": {
   "codemirror_mode": {
    "name": "ipython",
    "version": 3
   },
   "file_extension": ".py",
   "mimetype": "text/x-python",
   "name": "python",
   "nbconvert_exporter": "python",
   "pygments_lexer": "ipython3",
   "version": "3.5.2"
  },
  "widgets": {
   "state": {},
   "version": "1.1.2"
  }
 },
 "nbformat": 4,
 "nbformat_minor": 2
}
