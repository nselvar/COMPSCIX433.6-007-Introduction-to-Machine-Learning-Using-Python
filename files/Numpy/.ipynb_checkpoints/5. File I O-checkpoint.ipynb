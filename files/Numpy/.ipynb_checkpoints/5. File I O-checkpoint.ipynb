{
 "cells": [
  {
   "cell_type": "markdown",
   "metadata": {},
   "source": [
    "In this notebook we will discuss reading and writing files using numpy.\n",
    "\n",
    "We will look at\n",
    "\n",
    "csv\n",
    "\n",
    "pickle\n",
    "\n",
    "npy"
   ]
  },
  {
   "cell_type": "code",
   "execution_count": 1,
   "metadata": {
    "collapsed": true
   },
   "outputs": [],
   "source": [
    "import numpy as np"
   ]
  },
  {
   "cell_type": "code",
   "execution_count": 27,
   "metadata": {
    "collapsed": true
   },
   "outputs": [],
   "source": [
    "d = np.array([[10, 15, 12], [7, 16, 30], [19, 45, 70]])"
   ]
  },
  {
   "cell_type": "code",
   "execution_count": 28,
   "metadata": {
    "collapsed": true
   },
   "outputs": [],
   "source": [
    "# write the vector d to a csv file with 3 precision\n",
    "\n",
    "d.tofile(file=\"data.csv\", sep=\",\", format=\"%0.3f\")"
   ]
  },
  {
   "cell_type": "code",
   "execution_count": 29,
   "metadata": {},
   "outputs": [
    {
     "name": "stdout",
     "output_type": "stream",
     "text": [
      "[10. 15. 12.  7. 16. 30. 19. 45. 70.]\n"
     ]
    }
   ],
   "source": [
    "# genfromtxt(filename, delimiter) can be used to read several file formats\n",
    "\n",
    "rd = np.genfromtxt(\"data.csv\", delimiter=\",\")\n",
    "print(rd)"
   ]
  },
  {
   "cell_type": "markdown",
   "metadata": {},
   "source": [
    "#### Pickle file\n",
    "\n",
    "pickle file is a file format that follows first in first out and \n",
    "the objects are stored in the binary format"
   ]
  },
  {
   "cell_type": "code",
   "execution_count": 6,
   "metadata": {
    "collapsed": true
   },
   "outputs": [],
   "source": [
    "# b.dump(filename) is used to write b to the file that is specified in the parantheses\n",
    "\n",
    "d.dump(\"data.pickle\") # write d to a pickle file"
   ]
  },
  {
   "cell_type": "markdown",
   "metadata": {},
   "source": [
    "#### npy file\n",
    "\n",
    "Is a binary file format to store numpy objects"
   ]
  },
  {
   "cell_type": "code",
   "execution_count": 14,
   "metadata": {},
   "outputs": [
    {
     "name": "stdout",
     "output_type": "stream",
     "text": [
      "[[ 2  3 11]\n",
      " [-5  9 19]]\n"
     ]
    }
   ],
   "source": [
    "a = np.array([[2, 3, 11], [-5, 9, 19]])\n",
    "print(a)"
   ]
  },
  {
   "cell_type": "code",
   "execution_count": 15,
   "metadata": {
    "collapsed": true
   },
   "outputs": [],
   "source": [
    "# using save(filename, object) we can save a particular object in the specified file\n",
    "\n",
    "np.save('d1.npy', a) "
   ]
  },
  {
   "cell_type": "code",
   "execution_count": 16,
   "metadata": {},
   "outputs": [
    {
     "data": {
      "text/plain": [
       "array([[ 2,  3, 11],\n",
       "       [-5,  9, 19]])"
      ]
     },
     "execution_count": 16,
     "metadata": {},
     "output_type": "execute_result"
    }
   ],
   "source": [
    "# using load(filename) we can read all the objects sequentially from the file\n",
    "\n",
    "np.load('d1.npy')"
   ]
  },
  {
   "cell_type": "code",
   "execution_count": 21,
   "metadata": {},
   "outputs": [],
   "source": [
    "# saving multiple objects in a npy file\n",
    "\n",
    "b = np.array([\"JJ\", \"AX\", \"BY\"])\n",
    "np.save('d2.npy', [a, b]) "
   ]
  },
  {
   "cell_type": "code",
   "execution_count": 23,
   "metadata": {},
   "outputs": [
    {
     "data": {
      "text/plain": [
       "array([array([[ 2,  3, 11],\n",
       "       [-5,  9, 19]]),\n",
       "       array(['JJ', 'AX', 'BY'], dtype='<U2')], dtype=object)"
      ]
     },
     "execution_count": 23,
     "metadata": {},
     "output_type": "execute_result"
    }
   ],
   "source": [
    "np.load(\"d2.npy\")"
   ]
  },
  {
   "cell_type": "markdown",
   "metadata": {},
   "source": [
    "#### More operations using genfromtxt()"
   ]
  },
  {
   "cell_type": "markdown",
   "metadata": {},
   "source": [
    "#### Python io module \n",
    "\n",
    "io module is used to deal with various I/O types. \n",
    "\n",
    "There are 3 main i/o types:\n",
    "    1) text\n",
    "    \n",
    "    2) binary\n",
    "    \n",
    "    3) raw\n",
    "    \n",
    "Modes are:\n",
    "    1) read-only\n",
    "    \n",
    "    2) write-only\n",
    "    \n",
    "    3) read-write\n",
    "    \n",
    "We will look at StringIO - is very efficient to create large strings"
   ]
  },
  {
   "cell_type": "code",
   "execution_count": 46,
   "metadata": {},
   "outputs": [],
   "source": [
    "from io import StringIO"
   ]
  },
  {
   "cell_type": "code",
   "execution_count": 54,
   "metadata": {},
   "outputs": [],
   "source": [
    "out = StringIO() "
   ]
  },
  {
   "cell_type": "code",
   "execution_count": 55,
   "metadata": {},
   "outputs": [],
   "source": [
    "print(\"Watermelon\", file=out, end=\"\")"
   ]
  },
  {
   "cell_type": "code",
   "execution_count": 56,
   "metadata": {},
   "outputs": [
    {
     "name": "stdout",
     "output_type": "stream",
     "text": [
      "Watermelon\n"
     ]
    }
   ],
   "source": [
    "print(out.getvalue())"
   ]
  },
  {
   "cell_type": "code",
   "execution_count": 63,
   "metadata": {},
   "outputs": [
    {
     "name": "stdout",
     "output_type": "stream",
     "text": [
      "0 1 2 3 4 \n"
     ]
    }
   ],
   "source": [
    "# Writing to a file\n",
    "\n",
    "out = StringIO()\n",
    "\n",
    "\n",
    "for i in range(0, 5):\n",
    "    out.write(str(i))\n",
    "    out.write(\" \")\n",
    "\n",
    "data = out.getvalue()\n",
    "print(data)\n",
    "out.close()"
   ]
  },
  {
   "cell_type": "code",
   "execution_count": null,
   "metadata": {
    "collapsed": true
   },
   "outputs": [],
   "source": [
    "\"\"\"\n",
    "In-class activity:\n",
    "\n",
    "Create text file with 5 state names. Open the text file and print \n",
    "the contents of the file.\n",
    "\"\"\""
   ]
  },
  {
   "cell_type": "code",
   "execution_count": null,
   "metadata": {
    "collapsed": true
   },
   "outputs": [],
   "source": [
    "\"\"\"\n",
    "In-class activity:\n",
    "\n",
    "We have a string \"There can only be one winner\"\n",
    "\n",
    "use StringIO to write the string and then print the string.\n",
    "\n",
    "\"\"\""
   ]
  },
  {
   "cell_type": "code",
   "execution_count": null,
   "metadata": {
    "collapsed": true
   },
   "outputs": [],
   "source": [
    "\"\"\"\n",
    "In-class activity:\n",
    "\n",
    "Create npy file and save two ndarrays in it. Print the values from file.\n",
    "\"\"\"\n"
   ]
  }
 ],
 "metadata": {
  "kernelspec": {
   "display_name": "Python 3",
   "language": "python",
   "name": "python3"
  },
  "language_info": {
   "codemirror_mode": {
    "name": "ipython",
    "version": 3
   },
   "file_extension": ".py",
   "mimetype": "text/x-python",
   "name": "python",
   "nbconvert_exporter": "python",
   "pygments_lexer": "ipython3",
   "version": "3.5.2"
  },
  "widgets": {
   "state": {},
   "version": "1.1.2"
  }
 },
 "nbformat": 4,
 "nbformat_minor": 2
}
