{
 "cells": [
  {
   "cell_type": "markdown",
   "metadata": {},
   "source": [
    "### In this notebook we will look at\n",
    "\n",
    "random module\n",
    "\n",
    "array manipulations"
   ]
  },
  {
   "cell_type": "code",
   "execution_count": null,
   "metadata": {},
   "outputs": [],
   "source": [
    "import numpy as np"
   ]
  },
  {
   "cell_type": "code",
   "execution_count": null,
   "metadata": {},
   "outputs": [],
   "source": [
    "# random.rand(x) will return an ndarray with x number of items that are \n",
    "# randomly selected between 0 and 1\n",
    "a = np.random.rand(3)\n",
    "print(a)"
   ]
  },
  {
   "cell_type": "code",
   "execution_count": null,
   "metadata": {},
   "outputs": [],
   "source": [
    "\"\"\"\n",
    "using sort() to sort the elements in an ndarrray\n",
    "sort(axis, kind)\n",
    "all arguments are optional\n",
    "axis can be specified, default -1 means sort along the last axis\n",
    "\n",
    "kind can be quicksort, mergesort or heapsort. Default is quicksort\n",
    "\"\"\"\n",
    "\n",
    "a.sort() \n",
    "print(a)"
   ]
  },
  {
   "cell_type": "code",
   "execution_count": null,
   "metadata": {},
   "outputs": [],
   "source": [
    "# random.sample will return a random number from a uniform distribution from [0.0, 1.0)\n",
    "# 1.0 is not included\n",
    "c = np.random.sample()\n",
    "print(c)"
   ]
  },
  {
   "cell_type": "code",
   "execution_count": null,
   "metadata": {},
   "outputs": [],
   "source": [
    "# random.choice(n) will return a number from an ndarray n\n",
    "a = np.array([2, 6, 12, 18])\n",
    "print(np.random.choice(a))"
   ]
  },
  {
   "cell_type": "code",
   "execution_count": null,
   "metadata": {},
   "outputs": [],
   "source": [
    "\"\"\"\n",
    "random.randint(x) will return an integer from the interval  [0, x], both are included\n",
    "random.randint(x, y) will return an integer from [x, y]\n",
    "random.randint(x, y, n) will return n integers between x and y\n",
    "\"\"\"\n",
    "\n",
    "print(np.random.randint(5))\n",
    "print(np.random.randint(11, 15))\n",
    "print(np.random.randint(-10, -5, 2))"
   ]
  },
  {
   "cell_type": "code",
   "execution_count": null,
   "metadata": {},
   "outputs": [],
   "source": [
    "\"\"\"\n",
    "In-class activity: \n",
    "From the list [\"Elizabeth\", \"Lisa\", \"Asha\", \"Mike\", \"Amit\"] choose a name\n",
    "\"\"\""
   ]
  },
  {
   "cell_type": "code",
   "execution_count": null,
   "metadata": {},
   "outputs": [],
   "source": [
    "\"\"\"\n",
    "In-class activity:\n",
    "Using random.rand create a 1D ndarray, then convert the values in the ndarray to integer \n",
    "and then choose a value from the new int adarray. At every step print the output. \n",
    "\n",
    "\"\"\""
   ]
  },
  {
   "cell_type": "markdown",
   "metadata": {},
   "source": [
    "#### Now we will look at the array manipulation"
   ]
  },
  {
   "cell_type": "code",
   "execution_count": null,
   "metadata": {},
   "outputs": [],
   "source": [
    "a = np.array([[2, 4], [7, 9]])\n",
    "b = np.array([[1, 3], [6, 5]])"
   ]
  },
  {
   "cell_type": "code",
   "execution_count": null,
   "metadata": {},
   "outputs": [],
   "source": [
    "# using + operator we can compute element by element sum of two arrays\n",
    "print(a + b)"
   ]
  },
  {
   "cell_type": "code",
   "execution_count": null,
   "metadata": {},
   "outputs": [],
   "source": [
    "# using * operator we can compute element by element multiplication of two arrays\n",
    "\n",
    "print(a * b) # element by element multiplication"
   ]
  },
  {
   "cell_type": "code",
   "execution_count": null,
   "metadata": {},
   "outputs": [],
   "source": [
    "# using - operator we can compute element by element subtraction of two arrays\n",
    "\n",
    "print(a - b)"
   ]
  },
  {
   "cell_type": "code",
   "execution_count": null,
   "metadata": {},
   "outputs": [],
   "source": [
    "# dot(a1, a2) will compute matrix multiplication\n",
    "\n",
    "print(np.dot(a, b)) # matrix multiplication "
   ]
  },
  {
   "cell_type": "code",
   "execution_count": null,
   "metadata": {},
   "outputs": [],
   "source": [
    "# @ can be used to perform matrix multiplication \n",
    "# @  is called the 'infix' operator and is only available in Python 3.5+ (PEP 465)\n",
    "\n",
    "print(a @ b) "
   ]
  },
  {
   "cell_type": "code",
   "execution_count": null,
   "metadata": {},
   "outputs": [],
   "source": [
    "# if we have matrices then we can perfrom matrix multiplication using matmul(a1, a2)\n",
    "\n",
    "print(np.matmul(a, b)) # matrix multiplication"
   ]
  },
  {
   "cell_type": "code",
   "execution_count": null,
   "metadata": {},
   "outputs": [],
   "source": [
    "# in an array transpose() will interchange the rows to columns \n",
    "# and vice-versa \n",
    "\n",
    "print(np.transpose([[4, 7, 9], [5, 7, 10]]))"
   ]
  },
  {
   "cell_type": "code",
   "execution_count": null,
   "metadata": {},
   "outputs": [],
   "source": [
    "# T can also be used to transpose a matrix\n",
    "\n",
    "y = np.array([[3, 5], [8, 11]])\n",
    "print(y)\n",
    "print(y.T)"
   ]
  },
  {
   "cell_type": "code",
   "execution_count": null,
   "metadata": {},
   "outputs": [],
   "source": [
    "\"\"\"\n",
    "In-class activity:\n",
    "Create two 2-by-2 ndarrays. Compute the following:\n",
    "\n",
    "1) Element by element multiplication\n",
    "\n",
    "2) Array multiplication using two different methods\n",
    "\"\"\""
   ]
  },
  {
   "cell_type": "code",
   "execution_count": null,
   "metadata": {},
   "outputs": [],
   "source": [
    "\"\"\"\n",
    "In-class activity:\n",
    "Create an 2-by-2 ndarray. Compute the following:\n",
    "\n",
    "1) Transpose of the ndarray\n",
    "\n",
    "2) array multiplication of the old array and the transposed array\n",
    "\"\"\""
   ]
  }
 ],
 "metadata": {
  "kernelspec": {
   "display_name": "Python 3",
   "language": "python",
   "name": "python3"
  },
  "language_info": {
   "codemirror_mode": {
    "name": "ipython",
    "version": 3
   },
   "file_extension": ".py",
   "mimetype": "text/x-python",
   "name": "python",
   "nbconvert_exporter": "python",
   "pygments_lexer": "ipython3",
   "version": "3.5.2"
  },
  "widgets": {
   "state": {},
   "version": "1.1.2"
  }
 },
 "nbformat": 4,
 "nbformat_minor": 2
}
