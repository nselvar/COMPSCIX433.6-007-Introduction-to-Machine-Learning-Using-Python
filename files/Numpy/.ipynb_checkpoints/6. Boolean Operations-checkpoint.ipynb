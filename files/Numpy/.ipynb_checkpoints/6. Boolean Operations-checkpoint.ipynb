{
 "cells": [
  {
   "cell_type": "markdown",
   "metadata": {},
   "source": [
    "### In this notebook we will discuss Boolean Operations\n",
    "\n",
    "Boolean returns wither True or False"
   ]
  },
  {
   "cell_type": "code",
   "execution_count": 10,
   "metadata": {
    "collapsed": true
   },
   "outputs": [],
   "source": [
    "import numpy as np"
   ]
  },
  {
   "cell_type": "code",
   "execution_count": 11,
   "metadata": {
    "collapsed": false
   },
   "outputs": [
    {
     "name": "stdout",
     "output_type": "stream",
     "text": [
      "[[ 4.  2.  6.]\n",
      " [ 7. 10. 11.]]\n",
      "[10.  11.5 13. ]\n"
     ]
    }
   ],
   "source": [
    "c = np.array([[4, 2, 6],[7, 10, 11]], dtype=np.float32)\n",
    "d = np.linspace(start=10, stop=13, num=3)\n",
    "print(c)\n",
    "print(d)"
   ]
  },
  {
   "cell_type": "code",
   "execution_count": 12,
   "metadata": {
    "collapsed": false
   },
   "outputs": [
    {
     "name": "stdout",
     "output_type": "stream",
     "text": [
      "[[ 40.  20.  60.]\n",
      " [ 70. 100. 110.]] float32\n"
     ]
    }
   ],
   "source": [
    "f = 10*c \n",
    "\n",
    "# Multiply a matrix with scalar. \n",
    "# The matrix e is of dtype=int64 but the final matrix is of dtype=float64\n",
    "\n",
    "print(f, f.dtype)"
   ]
  },
  {
   "cell_type": "code",
   "execution_count": 13,
   "metadata": {
    "collapsed": false
   },
   "outputs": [
    {
     "name": "stdout",
     "output_type": "stream",
     "text": [
      "[[6.  9.5 7. ]\n",
      " [3.  1.5 2. ]] float64\n"
     ]
    }
   ],
   "source": [
    "f = d-c # Subtract matrix\n",
    "print(f, f.dtype)"
   ]
  },
  {
   "cell_type": "code",
   "execution_count": 14,
   "metadata": {
    "collapsed": false
   },
   "outputs": [
    {
     "name": "stdout",
     "output_type": "stream",
     "text": [
      "[[False False False]\n",
      " [False False False]]\n"
     ]
    }
   ],
   "source": [
    "h = f > 50 # Compare every element with the value of 0.5\n",
    "print(h)"
   ]
  },
  {
   "cell_type": "code",
   "execution_count": 15,
   "metadata": {
    "collapsed": false
   },
   "outputs": [
    {
     "name": "stdout",
     "output_type": "stream",
     "text": [
      "[[ True  True  True]\n",
      " [False False False]]\n",
      "[6.  9.5 7. ]\n",
      "[6.  9.5 7. ]\n"
     ]
    }
   ],
   "source": [
    "# Indexing with boolean arrays\n",
    "k = f > 5\n",
    "print(k)\n",
    "print(f[k]) # Returns values in f that are True in k\n",
    "print(f[f>5]) # This is same as the previous line except that we are not creating a new array k"
   ]
  },
  {
   "cell_type": "code",
   "execution_count": 16,
   "metadata": {
    "collapsed": false
   },
   "outputs": [
    {
     "name": "stdout",
     "output_type": "stream",
     "text": [
      "[[7 8 4]\n",
      " [5 6 9]]\n",
      "indices where the value is greater than 5 \n",
      "(array([0, 0, 1, 1], dtype=int64), array([0, 1, 1, 2], dtype=int64))\n"
     ]
    }
   ],
   "source": [
    "# where(condition) will returns indices where the condition is true \n",
    "\n",
    "a = np.array([[7, 8, 4],[5, 6, 9]]) \n",
    "print(a)\n",
    "print(\"indices where the value is greater than 5 \")\n",
    "b = np.where(a>5)\n",
    "print(b) "
   ]
  },
  {
   "cell_type": "code",
   "execution_count": 18,
   "metadata": {
    "collapsed": false
   },
   "outputs": [
    {
     "name": "stdout",
     "output_type": "stream",
     "text": [
      "True\n"
     ]
    }
   ],
   "source": [
    "# any(z) returns a boolean value when a certain condition is met in z at least once\n",
    "\n",
    "print(np.any(a > 6))"
   ]
  },
  {
   "cell_type": "code",
   "execution_count": 19,
   "metadata": {
    "collapsed": false
   },
   "outputs": [
    {
     "name": "stdout",
     "output_type": "stream",
     "text": [
      "False\n"
     ]
    }
   ],
   "source": [
    "# all(z) returns a boolean value when a certain condition is met by all the elements in z\n",
    "\n",
    "print(np.all(a> 7))"
   ]
  },
  {
   "cell_type": "code",
   "execution_count": 22,
   "metadata": {
    "collapsed": false
   },
   "outputs": [
    {
     "name": "stdout",
     "output_type": "stream",
     "text": [
      "False\n"
     ]
    }
   ],
   "source": [
    "# logical_and will take return a boolean value\n",
    "\n",
    "print(np.logical_and(True, False))"
   ]
  },
  {
   "cell_type": "code",
   "execution_count": 23,
   "metadata": {
    "collapsed": false
   },
   "outputs": [
    {
     "name": "stdout",
     "output_type": "stream",
     "text": [
      "[False False]\n"
     ]
    }
   ],
   "source": [
    "print(np.logical_and([False, False], [False, True]))"
   ]
  },
  {
   "cell_type": "code",
   "execution_count": 27,
   "metadata": {
    "collapsed": false
   },
   "outputs": [
    {
     "name": "stdout",
     "output_type": "stream",
     "text": [
      "[False  True False]\n"
     ]
    }
   ],
   "source": [
    "# logical_and will take \n",
    "\n",
    "s1 = np.array([3, 6, 9])\n",
    "print(np.logical_and(s1>5, s1%2==0))"
   ]
  },
  {
   "cell_type": "code",
   "execution_count": null,
   "metadata": {
    "collapsed": true
   },
   "outputs": [],
   "source": [
    "\"\"\"\n",
    "In-class activity:\n",
    "\n",
    "Create a 2 by 3 ndarray with integer values. Compute the following:\n",
    "1) Mean of the array\n",
    "2) Boolean array where the value is greater than the mean\n",
    "3) Only print the values in the original array that statisfies condition in 2.)\n",
    "\"\"\""
   ]
  },
  {
   "cell_type": "code",
   "execution_count": null,
   "metadata": {
    "collapsed": true
   },
   "outputs": [],
   "source": [
    "\"\"\"\n",
    "In-class activity:\n",
    "\n",
    "Create a 1D ndarray with integers. Find the following:\n",
    "\n",
    "1) Median of the ndarray\n",
    "\n",
    "2) Use \"any\" to find greater than the median\n",
    "\n",
    "3) Use \"all\" to find greater than the median\n",
    "\n",
    "4) Use \"where\" to find less than median\n",
    "\n",
    "\"\"\""
   ]
  }
 ],
 "metadata": {
  "kernelspec": {
   "display_name": "Python 3",
   "language": "python",
   "name": "python3"
  },
  "language_info": {
   "codemirror_mode": {
    "name": "ipython",
    "version": 3
   },
   "file_extension": ".py",
   "mimetype": "text/x-python",
   "name": "python",
   "nbconvert_exporter": "python",
   "pygments_lexer": "ipython3",
   "version": "3.6.6"
  }
 },
 "nbformat": 4,
 "nbformat_minor": 2
}
