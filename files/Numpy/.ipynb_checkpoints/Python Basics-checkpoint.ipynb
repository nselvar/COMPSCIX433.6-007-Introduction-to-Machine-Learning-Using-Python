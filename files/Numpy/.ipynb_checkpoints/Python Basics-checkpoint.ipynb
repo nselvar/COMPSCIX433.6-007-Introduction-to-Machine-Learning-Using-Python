{
 "cells": [
  {
   "cell_type": "markdown",
   "metadata": {},
   "source": [
    "In this notebook, we will go over some basics of Python as a recap."
   ]
  },
  {
   "cell_type": "markdown",
   "metadata": {},
   "source": [
    "#### Indentation \n",
    "\n",
    "For indentation we use a tab or four spaces. Indentation represents a block of code. "
   ]
  },
  {
   "cell_type": "markdown",
   "metadata": {},
   "source": [
    "### Comments\n",
    "\n",
    "Single line comment start with #\n",
    "\n",
    "Multi line comment is enclosed between a pair of triple single quotes or triple double quotes\n"
   ]
  },
  {
   "cell_type": "code",
   "execution_count": 6,
   "metadata": {
    "collapsed": false
   },
   "outputs": [
    {
     "name": "stdout",
     "output_type": "stream",
     "text": [
      "0\n",
      "1\n",
      "2\n",
      "3\n",
      "4\n"
     ]
    }
   ],
   "source": [
    "# for-loop\n",
    "\n",
    "for i in range(5):\n",
    "    print(i)"
   ]
  },
  {
   "cell_type": "code",
   "execution_count": 8,
   "metadata": {
    "collapsed": false
   },
   "outputs": [
    {
     "name": "stdout",
     "output_type": "stream",
     "text": [
      "1\n",
      "2\n",
      "3\n",
      "4\n",
      "5\n"
     ]
    }
   ],
   "source": [
    "# while loop\n",
    "\n",
    "i = 1\n",
    "while (i <= 5):\n",
    "    print(i)\n",
    "    i += 1"
   ]
  },
  {
   "cell_type": "code",
   "execution_count": 22,
   "metadata": {
    "collapsed": false
   },
   "outputs": [
    {
     "name": "stdout",
     "output_type": "stream",
     "text": [
      "x is greater than zero\n"
     ]
    }
   ],
   "source": [
    "# if-else statement\n",
    "\n",
    "x = 7\n",
    "if x < 0:\n",
    "    print(\"x is less than zero\")\n",
    "elif x == 0:\n",
    "    print(\"x is equal to zero\")\n",
    "else:\n",
    "    print(\"x is greater than zero\")"
   ]
  },
  {
   "cell_type": "code",
   "execution_count": 10,
   "metadata": {
    "collapsed": false
   },
   "outputs": [
    {
     "name": "stdout",
     "output_type": "stream",
     "text": [
      "10\n",
      "12\n",
      "14\n"
     ]
    }
   ],
   "source": [
    "\"\"\"\n",
    "An example of multi line comment\n",
    "Let's look \n",
    "at \n",
    "lists\n",
    "\"\"\"\n",
    "\n",
    "list1 = [10, 12, 14]\n",
    "for i in list1:\n",
    "    print(i)"
   ]
  },
  {
   "cell_type": "code",
   "execution_count": 17,
   "metadata": {
    "collapsed": false
   },
   "outputs": [
    {
     "name": "stdout",
     "output_type": "stream",
     "text": [
      "14\n",
      "14\n"
     ]
    }
   ],
   "source": [
    "# Indexing through a list\n",
    "# In a simple list, we index using [index_value]\n",
    "\n",
    "print(list1[2])\n",
    "print(list1[-1]) # returns the last value in the list"
   ]
  },
  {
   "cell_type": "code",
   "execution_count": 21,
   "metadata": {
    "collapsed": false
   },
   "outputs": [
    {
     "name": "stdout",
     "output_type": "stream",
     "text": [
      "[16, 18, 20]\n",
      "16\n",
      "18\n",
      "20\n"
     ]
    }
   ],
   "source": [
    "list2 = [[10, 12, 14], [16, 18, 20]]\n",
    "\n",
    "# In the above list of lists, elements can be retrieved by using double indexing\n",
    "\n",
    "print(list2[1])\n",
    "print(list2[1][0])\n",
    "print(list2[1][1])\n",
    "print(list2[1][2])"
   ]
  },
  {
   "cell_type": "code",
   "execution_count": null,
   "metadata": {
    "collapsed": true
   },
   "outputs": [],
   "source": [
    "# dictionary is a collection of key-value pairs. \n",
    "d = {'a': 12, 'b': 13}"
   ]
  },
  {
   "cell_type": "code",
   "execution_count": 12,
   "metadata": {
    "collapsed": false
   },
   "outputs": [
    {
     "name": "stdout",
     "output_type": "stream",
     "text": [
      "Wonderful day\n"
     ]
    }
   ],
   "source": [
    "# function\n",
    "\n",
    "def function1(a, b):\n",
    "    c = a + \" \" + b\n",
    "    return c\n",
    "\n",
    "print(function1(\"Wonderful\", \"day\"))"
   ]
  },
  {
   "cell_type": "code",
   "execution_count": null,
   "metadata": {
    "collapsed": true
   },
   "outputs": [],
   "source": [
    "\"\"\"\n",
    "In-class activity: define a function that takes a dictionary and prints key-value pairs.\n",
    "\"\"\""
   ]
  },
  {
   "cell_type": "code",
   "execution_count": 25,
   "metadata": {
    "collapsed": false
   },
   "outputs": [
    {
     "name": "stdout",
     "output_type": "stream",
     "text": [
      "We are just printing the value of a: 4\n",
      "Class1\n",
      "16\n"
     ]
    }
   ],
   "source": [
    "# class\n",
    "\n",
    "class Class1(object):\n",
    "    class_name = \"Class1\"\n",
    "    def __init__(self, a):\n",
    "        self.a = a\n",
    "        \n",
    "    def square(self):\n",
    "        return self.a * self.a \n",
    "    \n",
    "    def __str__(self):\n",
    "        return \"We are just printing the value of a: %d\" %self.a\n",
    "    \n",
    "object1 = Class1(4)\n",
    "print(object1)\n",
    "print(object1.class_name)\n",
    "print(object1.square())"
   ]
  },
  {
   "cell_type": "code",
   "execution_count": null,
   "metadata": {
    "collapsed": true
   },
   "outputs": [],
   "source": [
    "\"\"\"\n",
    "In-class activity: define a class called Student that has init method that takes name of the student \n",
    "and a course that they are enrolled in. Have a print method called sPrint that prints student name \n",
    "and course. Create an object and pass values. Make a call to the print method and print the values.   \n",
    "\"\"\" "
   ]
  }
 ],
 "metadata": {
  "kernelspec": {
   "display_name": "Python 3",
   "language": "python",
   "name": "python3"
  },
  "language_info": {
   "codemirror_mode": {
    "name": "ipython",
    "version": 3
   },
   "file_extension": ".py",
   "mimetype": "text/x-python",
   "name": "python",
   "nbconvert_exporter": "python",
   "pygments_lexer": "ipython3",
   "version": "3.6.6"
  }
 },
 "nbformat": 4,
 "nbformat_minor": 2
}
