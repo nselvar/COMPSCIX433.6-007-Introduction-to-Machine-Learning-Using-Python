{
 "cells": [
  {
   "cell_type": "markdown",
   "metadata": {},
   "source": [
    "In this notebook we will discuss the following:\n",
    "    \n",
    "Reshape\n",
    "\n",
    "Resize\n",
    "\n",
    "ravel\n",
    "\n",
    "flatten\n",
    "\n",
    "ufunc\n",
    "\n",
    "broadcast\n",
    "\n",
    "indexing"
   ]
  },
  {
   "cell_type": "code",
   "execution_count": 1,
   "metadata": {},
   "outputs": [],
   "source": [
    "import numpy as np"
   ]
  },
  {
   "cell_type": "code",
   "execution_count": 2,
   "metadata": {},
   "outputs": [
    {
     "name": "stdout",
     "output_type": "stream",
     "text": [
      "[ 0  1  2  3  4  5  6  7  8  9 10 11]\n",
      "1\n"
     ]
    }
   ],
   "source": [
    "# ndim will return number of ndarray dimensions\n",
    "a = np.arange(12)\n",
    "print(a) \n",
    "print(a.ndim)"
   ]
  },
  {
   "cell_type": "code",
   "execution_count": 3,
   "metadata": {},
   "outputs": [
    {
     "name": "stdout",
     "output_type": "stream",
     "text": [
      "[[ 2  5]\n",
      " [ 8 11]\n",
      " [ 4 17]]\n",
      "2\n"
     ]
    }
   ],
   "source": [
    "b = np.array([[2, 5], [8, 11], [4, 17]])\n",
    "print(b)\n",
    "print(b.ndim)"
   ]
  },
  {
   "cell_type": "code",
   "execution_count": 4,
   "metadata": {},
   "outputs": [
    {
     "name": "stdout",
     "output_type": "stream",
     "text": [
      "[0 1 2 3 4 5 6 7]\n",
      "[[0 1 2 3]\n",
      " [4 5 6 7]]\n"
     ]
    }
   ],
   "source": [
    "# reshape() will reshape the array into the specified shape\n",
    "a = np.arange(8)\n",
    "b = a.reshape((2, 4)) # Change the array to size 2x4\n",
    "print(a)\n",
    "print(b) "
   ]
  },
  {
   "cell_type": "code",
   "execution_count": 5,
   "metadata": {},
   "outputs": [
    {
     "name": "stdout",
     "output_type": "stream",
     "text": [
      "None\n",
      "[[0 1]\n",
      " [2 3]\n",
      " [4 5]\n",
      " [6 7]]\n"
     ]
    }
   ],
   "source": [
    "c = a.resize((4,2))\n",
    "print(c) \n",
    "# the above line will return None as resize modifies inplace \n",
    "# while reshape creates a new array \n",
    "print(a)"
   ]
  },
  {
   "cell_type": "code",
   "execution_count": null,
   "metadata": {
    "collapsed": true
   },
   "outputs": [],
   "source": [
    "flat_a = a.flatten()\n",
    "print(flat_a)\n",
    "# since flat_a is a new copy, any change to flat_a does not affect a"
   ]
  },
  {
   "cell_type": "code",
   "execution_count": null,
   "metadata": {
    "collapsed": true
   },
   "outputs": [],
   "source": [
    "ravel_a = a.ravel()\n",
    "print(ravel_a)\n",
    "# ravel_a is not a copy, any change to ravel_a affects a "
   ]
  },
  {
   "cell_type": "code",
   "execution_count": null,
   "metadata": {
    "collapsed": true
   },
   "outputs": [],
   "source": [
    "ravel_a[0] = 10\n",
    "print(ravel_a)\n",
    "print(a)\n",
    "# ravel_a is not a copy, any change to ravel_a affects a "
   ]
  },
  {
   "cell_type": "code",
   "execution_count": null,
   "metadata": {
    "collapsed": true
   },
   "outputs": [],
   "source": [
    "# good time to talk about shallow copy vs deep copy\n",
    "\n",
    "# shallow copy\n",
    "d = a\n",
    "a[0][0] = -4\n",
    "print(a)\n",
    "print(d)\n",
    "# note that d and a will have same values even though we modified only a"
   ]
  },
  {
   "cell_type": "code",
   "execution_count": null,
   "metadata": {
    "collapsed": true
   },
   "outputs": [],
   "source": [
    "# Deep copy\n",
    "e = a.copy()\n",
    "a[0][0] = 3\n",
    "print(a)\n",
    "print(e)\n",
    "# note that e and a will have different values"
   ]
  },
  {
   "cell_type": "code",
   "execution_count": null,
   "metadata": {
    "collapsed": true
   },
   "outputs": [],
   "source": [
    "\"\"\"\n",
    "In-class activity - create an ndarray using arange that starts at 0 and stops \n",
    "at 12 in increments of 3. Then convert reshape the array to 2,2 then ravel the array. \n",
    "At each step, print the output.\n",
    "\"\"\""
   ]
  },
  {
   "cell_type": "markdown",
   "metadata": {},
   "source": [
    "## List of ufuncs short for universal functions in numpy\n",
    "\n",
    "https://docs.scipy.org/doc/numpy/reference/ufuncs.html"
   ]
  },
  {
   "cell_type": "code",
   "execution_count": null,
   "metadata": {
    "collapsed": true
   },
   "outputs": [],
   "source": [
    "# Universal functions are called ufunc \n",
    "\n",
    "a = np.arange(2, 6)\n",
    "s = np.sin(a)\n",
    "c = np.cos(a)\n",
    "print(a)\n",
    "print(s)\n",
    "print(c)"
   ]
  },
  {
   "cell_type": "code",
   "execution_count": null,
   "metadata": {
    "collapsed": true
   },
   "outputs": [],
   "source": [
    "\"\"\"\n",
    "In-class activity - for the above array \"a\" compute the inverse sine and cosine \n",
    "using arcsin and arccos.\n",
    "\"\"\""
   ]
  },
  {
   "cell_type": "markdown",
   "metadata": {},
   "source": [
    "## Array Indexing"
   ]
  },
  {
   "cell_type": "code",
   "execution_count": 2,
   "metadata": {},
   "outputs": [
    {
     "name": "stdout",
     "output_type": "stream",
     "text": [
      "[[3 2 3 3 3]\n",
      " [0 2 3 1 0]\n",
      " [4 4 2 1 0]\n",
      " [2 2 0 0 1]\n",
      " [2 0 3 3 2]]\n",
      "The rows=1 and cols=2 element is 3\n",
      "The first col is [3 0 4 2 2]\n",
      "The third row is [4 4 2 1 0]\n"
     ]
    }
   ],
   "source": [
    "# Basic slicing\n",
    "import numpy as np\n",
    "a = np.random.rand(5, 5)*5\n",
    "b = a.astype(np.int)\n",
    "print(b)\n",
    "print('The rows=1 and cols=2 element is {0}'.format(b[1,2])) \n",
    "print('The first col is {0}'.format(b[:,0])) # all rows for cols=0\n",
    "print('The third row is {0}'.format(b[2, :])) # all cols for rows = 2"
   ]
  },
  {
   "cell_type": "code",
   "execution_count": null,
   "metadata": {
    "collapsed": true
   },
   "outputs": [],
   "source": [
    "# broadcasting - the process of supplying a value to \n",
    "# every element in an array\n",
    "\n",
    "a = np.array([[2, 4, 8], [3, 5, 7], [4, 6, 10]])\n",
    "b = np.array(-1)\n",
    "c = a + b\n",
    "print(c)"
   ]
  },
  {
   "cell_type": "code",
   "execution_count": null,
   "metadata": {
    "collapsed": true
   },
   "outputs": [],
   "source": [
    "# Another example of broadcasting\n",
    "\n",
    "a = np.array([[2, 4, 8], [3, 5, 7], [4, 6, 10]])\n",
    "b = np.array([1, 1, 1])\n",
    "c = a + b\n",
    "print(c)"
   ]
  },
  {
   "cell_type": "code",
   "execution_count": 6,
   "metadata": {},
   "outputs": [
    {
     "name": "stdout",
     "output_type": "stream",
     "text": [
      "[[2 5]\n",
      " [4 6]]\n",
      "+++++++\n",
      "[[2 5]\n",
      " [4 6]]\n",
      "+++++++\n",
      "[[2 4]\n",
      " [6 5]]\n",
      "+++++++\n",
      "[[2 5]\n",
      " [4 6]]\n"
     ]
    }
   ],
   "source": [
    "# An example of sorting\n",
    "\n",
    "a = np.array([[2, 5], [6, 4]])\n",
    "\n",
    "print(np.sort(a)) # sort(a, axis, kind, order)\n",
    "print(\"+++++++\")\n",
    "print(np.sort(a, order = None))\n",
    "print(\"+++++++\")\n",
    "print(np.sort(a, axis = 0)) # along the column\n",
    "print(\"+++++++\")\n",
    "print(np.sort(a, axis = 1)) # along the row"
   ]
  },
  {
   "cell_type": "code",
   "execution_count": null,
   "metadata": {
    "collapsed": true
   },
   "outputs": [],
   "source": [
    " # we can also use sort() method to sort \n",
    "    \n",
    "a.sort()\n",
    "print(a) "
   ]
  },
  {
   "cell_type": "code",
   "execution_count": null,
   "metadata": {
    "collapsed": true
   },
   "outputs": [],
   "source": [
    "\"\"\"\n",
    "In-class activity - create an ndarray that is 2 by 3. Then broadcast value -5 to each element. \n",
    "Then sort the array first along the columns and then along the rows.\n",
    "\"\"\" "
   ]
  }
 ],
 "metadata": {
  "kernelspec": {
   "display_name": "Python 3",
   "language": "python",
   "name": "python3"
  },
  "language_info": {
   "codemirror_mode": {
    "name": "ipython",
    "version": 3
   },
   "file_extension": ".py",
   "mimetype": "text/x-python",
   "name": "python",
   "nbconvert_exporter": "python",
   "pygments_lexer": "ipython3",
   "version": "3.5.2"
  },
  "widgets": {
   "state": {},
   "version": "1.1.2"
  }
 },
 "nbformat": 4,
 "nbformat_minor": 2
}
