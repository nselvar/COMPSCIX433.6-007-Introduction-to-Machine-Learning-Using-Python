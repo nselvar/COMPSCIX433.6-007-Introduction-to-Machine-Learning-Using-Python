{
 "cells": [
  {
   "cell_type": "markdown",
   "metadata": {},
   "source": [
    "## Numpy\n",
    "\n",
    "Travis Oliphant created Numpy and released it to public as Numeric in 1995 and as Numpy in 2006. \n",
    "It is written in Python and C. Now it is maintained by Python Community. \n",
    "\n",
    "Numpy is a powerful library that is used for numerical computing. Libraries such as Pandas and Tensorflow are build on Numpy. In Tensorflow, the output is an ndarray, which stands for n-dimensional array. "
   ]
  },
  {
   "cell_type": "markdown",
   "metadata": {},
   "source": [
    "## Arrays vs Matrices \n",
    "\n",
    "https://www.numpy.org/devdocs/user/numpy-for-matlab-users.html\n",
    "\n",
    "In Numpy, matrices are two dimensional whereas arrays can be of any dimension, i.e. n-dimensional."
   ]
  },
  {
   "cell_type": "code",
   "execution_count": null,
   "metadata": {
    "collapsed": true
   },
   "outputs": [],
   "source": [
    "import numpy as np"
   ]
  },
  {
   "cell_type": "code",
   "execution_count": null,
   "metadata": {
    "collapsed": true
   },
   "outputs": [],
   "source": [
    "a = np.array([])"
   ]
  },
  {
   "cell_type": "markdown",
   "metadata": {},
   "source": [
    "## NDARRAY\n",
    "An ndaray is a n-dimensional array where all items are of the same type (unlike a Python data structure) and consequently use the same amount of space. There are 21 different types of objects (also called dtypes) that can be stored in ndarray, such as\n",
    "* bool_ \n",
    "* byte\n",
    "* short\n",
    "* int_\n",
    "* single\n",
    "* float_\n",
    "* longfloat\n",
    "* complex_\n",
    "* object_\n",
    "* str_\n",
    "\n",
    "For some of the dtypes, a _ to differentiate that dtype from the corresponding Python type. Such types are also called as 'enhanced scalars).  They have the same precision as the Python type.\n"
   ]
  },
  {
   "cell_type": "markdown",
   "metadata": {},
   "source": [
    "Creating Arrays - First let's learn about different ways of create arrays in numpy. "
   ]
  },
  {
   "cell_type": "code",
   "execution_count": null,
   "metadata": {
    "collapsed": true
   },
   "outputs": [],
   "source": [
    "import numpy as np"
   ]
  },
  {
   "cell_type": "code",
   "execution_count": null,
   "metadata": {
    "collapsed": false
   },
   "outputs": [],
   "source": [
    "# declaring a simple one dimensional numpy array\n",
    "\n",
    "a = [2, 6, 10]\n",
    "print(a, type(a), type(a[2]))\n",
    "a = np.array(a)\n",
    "print(a, type(a), a.dtype)"
   ]
  },
  {
   "cell_type": "code",
   "execution_count": null,
   "metadata": {
    "collapsed": false
   },
   "outputs": [],
   "source": [
    "# declaring another simple one dimensional numpy array\n",
    "\n",
    "a = np.array([1, 2, 3, 4])\n",
    "print(a)\n",
    "print(type(a))"
   ]
  },
  {
   "cell_type": "code",
   "execution_count": null,
   "metadata": {
    "collapsed": false
   },
   "outputs": [],
   "source": [
    "# declaring a two dimensional numpy array\n",
    "\n",
    "b = np.array([[1, 2, 3], [4, 5, 6]])\n",
    "# note that we have to supply each row of the array as an item in a list\n",
    "print(b, )\n",
    "print(b.shape)\n",
    "print(b.ndim)"
   ]
  },
  {
   "cell_type": "code",
   "execution_count": null,
   "metadata": {
    "collapsed": false
   },
   "outputs": [],
   "source": [
    "# declaring a numpy matrix\n",
    "\n",
    "b = np.matrix([[1, 2, 3], [4, 5, 6]])\n",
    "# note that we have to supply each row of the array as an item in a list\n",
    "print(b, type(b))\n",
    "print(b.shape)\n",
    "print(b.ndim)"
   ]
  },
  {
   "cell_type": "code",
   "execution_count": null,
   "metadata": {
    "collapsed": false
   },
   "outputs": [],
   "source": [
    "# we can create a simple ndarray by using arange\n",
    "# numpy.arange(n) will create an ndarray elements starting from 0 to n-1\n",
    "\n",
    "a = np.arange(7) # will create elements starting from 0 to 7-1\n",
    "print(a)"
   ]
  },
  {
   "cell_type": "code",
   "execution_count": null,
   "metadata": {
    "collapsed": false
   },
   "outputs": [],
   "source": [
    "# we can also include negative integers\n",
    "\n",
    "a1 = np.arange(-7, 7)\n",
    "print(a1)"
   ]
  },
  {
   "cell_type": "code",
   "execution_count": null,
   "metadata": {
    "collapsed": false
   },
   "outputs": [],
   "source": [
    "# can have step size \n",
    "a2 = np.arange(start=-10, stop=10, step=2)\n",
    "print(a2)"
   ]
  },
  {
   "cell_type": "code",
   "execution_count": null,
   "metadata": {
    "collapsed": false
   },
   "outputs": [],
   "source": [
    "# Create 10 numbers between 1 and 20 including 20\n",
    "p = np.linspace(start = 1, stop = 20, num=10)\n",
    "print('The linear space of value is {0}'.format(p))"
   ]
  },
  {
   "cell_type": "code",
   "execution_count": null,
   "metadata": {
    "collapsed": false
   },
   "outputs": [],
   "source": [
    "\"\"\"\n",
    "In-class activity - create an array using linspace that starts from -5 and stops at 5 and num = 10\n",
    "\"\"\""
   ]
  },
  {
   "cell_type": "code",
   "execution_count": null,
   "metadata": {
    "collapsed": false
   },
   "outputs": [],
   "source": [
    "\"\"\"\n",
    "In logspace the values are computed by taking 10 power the value\n",
    "note that 10 power 0.1 is 1.25892541\n",
    "\"\"\"\n",
    "\n",
    "p = np.logspace(start = 0.1, stop = 0.20, num=10)\n",
    "print('The log space of value is {0}'.format(p))\n",
    "print(type(p))"
   ]
  },
  {
   "cell_type": "code",
   "execution_count": null,
   "metadata": {
    "collapsed": false
   },
   "outputs": [],
   "source": [
    "\"\"\"\n",
    "In-class activity - Create an array with logspace that starts from -4 and stops at 4 and num = 6.\n",
    "\"\"\""
   ]
  },
  {
   "cell_type": "code",
   "execution_count": null,
   "metadata": {
    "collapsed": false
   },
   "outputs": [],
   "source": [
    "# using zeros() method\n",
    "a = np.zeros((3, 2))\n",
    "print(a)"
   ]
  },
  {
   "cell_type": "code",
   "execution_count": null,
   "metadata": {
    "collapsed": false
   },
   "outputs": [],
   "source": [
    "# using ones()\n",
    "a = np.ones((3,2))\n",
    "print(a)"
   ]
  },
  {
   "cell_type": "code",
   "execution_count": null,
   "metadata": {
    "collapsed": false
   },
   "outputs": [],
   "source": [
    "# using identity\n",
    "a = np.identity(2) \n",
    "print(a)"
   ]
  },
  {
   "cell_type": "code",
   "execution_count": null,
   "metadata": {
    "collapsed": false
   },
   "outputs": [],
   "source": [
    "# using empty() method \n",
    "# this will generate very small random numbers close to zero\n",
    "b = np.empty((2,2)) \n",
    "print(b) "
   ]
  },
  {
   "cell_type": "code",
   "execution_count": null,
   "metadata": {
    "collapsed": true
   },
   "outputs": [],
   "source": [
    "\"\"\"\n",
    "In the above variable b, change b[0][1] to 15 and b[1][0] to 30 and then print b. \n",
    "\"\"\""
   ]
  },
  {
   "cell_type": "markdown",
   "metadata": {},
   "source": [
    "References:\n",
    "\n",
    "http://people.duke.edu/~ccc14/pcfb/numpympl/NumpyBasics.html\n",
    "\n",
    "https://docs.scipy.org/doc/numpy-dev/user/quickstart.html\n",
    "\n",
    "http://www.engr.ucsb.edu/~shell/che210d/numpy.pdf\n",
    "\n",
    "http://www.labri.fr/perso/nrougier/teaching/numpy/numpy.html\n",
    "\n",
    "http://www.labri.fr/perso/nrougier/teaching/numpy.100/\n",
    "\n",
    "NUMPY TO MATLAB - https://docs.scipy.org/doc/numpy-dev/user/numpy-for-matlab-users.html\n",
    "\n",
    "https://www.numpy.org/devdocs/user/numpy-for-matlab-users.html"
   ]
  },
  {
   "cell_type": "code",
   "execution_count": null,
   "metadata": {
    "collapsed": true
   },
   "outputs": [],
   "source": []
  }
 ],
 "metadata": {
  "kernelspec": {
   "display_name": "Python 3",
   "language": "python",
   "name": "python3"
  },
  "language_info": {
   "codemirror_mode": {
    "name": "ipython",
    "version": 3
   },
   "file_extension": ".py",
   "mimetype": "text/x-python",
   "name": "python",
   "nbconvert_exporter": "python",
   "pygments_lexer": "ipython3",
   "version": "3.6.6"
  }
 },
 "nbformat": 4,
 "nbformat_minor": 2
}
