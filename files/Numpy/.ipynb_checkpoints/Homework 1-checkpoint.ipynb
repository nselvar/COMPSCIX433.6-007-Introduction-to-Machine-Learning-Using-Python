{
 "cells": [
  {
   "cell_type": "code",
   "execution_count": null,
   "metadata": {
    "collapsed": true
   },
   "outputs": [],
   "source": [
    "Instructions: Have all the code for all the questions in one Jupyter notebook and upload \n",
    "the file at the time of submission. I will only consider these this file format for grading. \n",
    "So, after you uploaded the file, check the file extension and if it is not an ipynb, \n",
    "then upload the right file. \n",
    "Way to present:\n",
    "# Solution 1 to indicate solution to question 1. Please submit original work."
   ]
  },
  {
   "cell_type": "code",
   "execution_count": 4,
   "metadata": {
    "collapsed": false
   },
   "outputs": [
    {
     "name": "stdout",
     "output_type": "stream",
     "text": [
      "16.666666666666668\n",
      "[20.         13.33333333 16.66666667]\n",
      "[20. 15. 15.]\n",
      "[400. 200. 250.]\n",
      "8.498365855987975\n"
     ]
    }
   ],
   "source": [
    "\"\"\"\n",
    "Problem 1 - \n",
    "\n",
    "a1 = np.array([[5, 15, 25],[20, 10, 15],[35, 15, 10]])\n",
    "\n",
    "Find the following:\n",
    "\n",
    "1) Mean of a1 and median of a1.\n",
    "\n",
    "2) Mean and median along the axis = 0, then perform element and element multiplication on the arrays.\n",
    "\n",
    "3) Find the standard deviation of a1.\n",
    "\n",
    "\"\"\"\n",
    "\n",
    "import numpy as np\n",
    "a1 = np.array([[5, 15, 25],[20, 10, 15],[35, 15, 10]])\n",
    "\n",
    "print(a1.mean())\n",
    "a1_mean = np.mean(a1, axis=0)\n",
    "a1_median = np.median(a1, axis=0)\n",
    "print(a1_mean)\n",
    "print(a1_median)\n",
    "\n",
    "a1_element = a1_mean * a1_median\n",
    "print(a1_element)\n",
    "\n",
    "a1_std = np.std(a1)\n",
    "print(a1_std)"
   ]
  },
  {
   "cell_type": "code",
   "execution_count": null,
   "metadata": {
    "collapsed": true
   },
   "outputs": [],
   "source": [
    "\"\"\"\n",
    "Problem 2 - \n",
    "\n",
    "Write the following values into a npy file\n",
    "\n",
    "31, 91, 100, -3, 11, -7\n",
    "\n",
    "save the file and then print the values from the file.\n",
    "\n",
    "\"\"\"\n",
    "\n",
    "\n"
   ]
  },
  {
   "cell_type": "code",
   "execution_count": 11,
   "metadata": {
    "collapsed": false
   },
   "outputs": [
    {
     "name": "stdout",
     "output_type": "stream",
     "text": [
      "[ 15  84 -60]\n",
      "39\n",
      "39\n",
      "[False  True False]\n",
      "[84]\n"
     ]
    }
   ],
   "source": [
    "\"\"\"\n",
    "Problem 3 - \n",
    "\n",
    "If b1 = [5, 7, 15], c1 = [3, 12, -4]\n",
    "\n",
    "1) Find element by element multiplication on b1 and c1 and print the result.\n",
    "\n",
    "2) What operations do we have to perform on c1 so that we can do array multiplication on b1 and c1?\n",
    "Perform those operations and print the output for every step.\n",
    "\n",
    "3) On array obtained in 1, compute a boolean array that satisfies the condition that value \n",
    "is greater than 20. Print the boolean array. \n",
    "Then find the corresponding array where the condtition is True.\n",
    "\"\"\"\n",
    "\n",
    "\n",
    "b1 = [5, 7, 15]\n",
    "c1 = [3, 12, -4]\n",
    "\n",
    "b1 = np.array(b1)\n",
    "c1 = np.array(c1)\n",
    "\n",
    "# 1\n",
    "\n",
    "b1elec1 = b1 * c1\n",
    "print(b1elec1)\n",
    "\n",
    "# 2\n",
    "c1T = c1.T\n",
    "b1mc1 = np.dot(b1, c1T)\n",
    "print(b1mc1)\n",
    "\n",
    "b1ac1 = b1@c1T\n",
    "print(b1ac1)\n",
    "\n",
    "# 3\n",
    "\n",
    "print(b1elec1 > 20)\n",
    "print(b1elec1[b1elec1>20])"
   ]
  },
  {
   "cell_type": "code",
   "execution_count": null,
   "metadata": {
    "collapsed": true
   },
   "outputs": [],
   "source": []
  }
 ],
 "metadata": {
  "kernelspec": {
   "display_name": "Python 3",
   "language": "python",
   "name": "python3"
  },
  "language_info": {
   "codemirror_mode": {
    "name": "ipython",
    "version": 3
   },
   "file_extension": ".py",
   "mimetype": "text/x-python",
   "name": "python",
   "nbconvert_exporter": "python",
   "pygments_lexer": "ipython3",
   "version": "3.6.6"
  }
 },
 "nbformat": 4,
 "nbformat_minor": 2
}
